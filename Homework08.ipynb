{
 "worksheets": [
  {
   "cells": [
    {
     "cell_type": "code",
     "execution_count": null,
     "metadata": {},
     "outputs": [],
     "input": [
      "import pandas as pd\n",
      "import numpy as np\n",
      "\n",
      "data_base = pd.read_csv('WorldCupMatches.csv')\n"
     ],
     "language": "python",
     "prompt_number": 7
    },
    {
     "cell_type": "code",
     "execution_count": null,
     "metadata": {},
     "outputs": [
      {
       "prompt_number": 8,
       "metadata": {},
       "output_type": "pyout",
       "text": [
        "0    2414.0\n",
        "dtype: float64"
       ]
      }
     ],
     "input": [
      "pd.Series(data_base['Home Team Goals'].sum() + data_base['Away Team Goals'].sum())\n"
     ],
     "language": "python",
     "prompt_number": 8
    },
    {
     "cell_type": "code",
     "execution_count": null,
     "metadata": {},
     "outputs": [
      {
       "html": [
        "<div style=\"max-width:1500px;overflow:auto;\">\n",
        "<style scoped>\n",
        "    .dataframe tbody tr th:only-of-type {\n",
        "        vertical-align: middle;\n",
        "    }\n",
        "\n",
        "    .dataframe tbody tr th {\n",
        "        vertical-align: top;\n",
        "    }\n",
        "\n",
        "    .dataframe thead th {\n",
        "        text-align: right;\n",
        "    }\n",
        "</style>\n",
        "<table border=\"1\" class=\"dataframe\">\n",
        "  <thead>\n",
        "    <tr style=\"text-align: right;\">\n",
        "      <th></th>\n",
        "      <th>goals</th>\n",
        "    </tr>\n",
        "  </thead>\n",
        "  <tbody>\n",
        "    <tr>\n",
        "      <th>Brazil</th>\n",
        "      <td>225.0</td>\n",
        "    </tr>\n",
        "    <tr>\n",
        "      <th>Argentina</th>\n",
        "      <td>133.0</td>\n",
        "    </tr>\n",
        "    <tr>\n",
        "      <th>Germany FR</th>\n",
        "      <td>131.0</td>\n",
        "    </tr>\n",
        "    <tr>\n",
        "      <th>Italy</th>\n",
        "      <td>128.0</td>\n",
        "    </tr>\n",
        "    <tr>\n",
        "      <th>France</th>\n",
        "      <td>108.0</td>\n",
        "    </tr>\n",
        "  </tbody>\n",
        "</table>\n",
        "</div>"
       ],
       "metadata": {},
       "output_type": "pyout"
      }
     ],
     "input": [
      "grouped = (data_base.groupby(['Home Team Name'])['Home Team Goals'].agg('sum'))+(data_base.groupby(['Away Team Name'])['Away Team Goals'].agg('sum'))\n",
      "grouped.reindex()\n",
      "grouped_to_frame = grouped.to_frame()\n",
      "col = grouped_to_frame.rename({0: \"goals\"}, axis='columns')\n",
      "sort = col.sort_values(by='goals', ascending=False)\n",
      "sort.head()"
     ],
     "language": "python",
     "prompt_number": 9
    },
    {
     "cell_type": "code",
     "execution_count": null,
     "metadata": {},
     "outputs": [
      {
       "prompt_number": 10,
       "metadata": {},
       "output_type": "pyout",
       "text": [
        "0    131.0\n",
        "dtype: float64"
       ]
      }
     ],
     "input": [
      "SemiFinals = data_base['Stage'] == 'Semi-finals'\n",
      "goals = data_base[SemiFinals]\n",
      "pd.Series(goals['Home Team Goals'].sum() + goals['Away Team Goals'].sum())"
     ],
     "language": "python",
     "prompt_number": 10
    },
    {
     "cell_type": "code",
     "execution_count": null,
     "metadata": {},
     "outputs": [],
     "input": [],
     "language": "python"
    }
   ]
  }
 ],
 "cells": [],
 "metadata": {
  "name": "",
  "signature": "sha256:3f8ba0d4577bac0f42073034f9c0d318ca9b5943b7d1972931cd7bb0054801bd"
 },
 "nbformat": 4,
 "nbformat_minor": 0
}
